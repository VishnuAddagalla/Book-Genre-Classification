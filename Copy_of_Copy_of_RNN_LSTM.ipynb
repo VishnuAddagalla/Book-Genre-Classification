{
  "cells": [
    {
      "cell_type": "markdown",
      "metadata": {
        "id": "view-in-github",
        "colab_type": "text"
      },
      "source": [
        "<a href=\"https://colab.research.google.com/github/VishnuAddagalla/Book-Genre-Classification/blob/master/Copy_of_Copy_of_RNN_LSTM.ipynb\" target=\"_parent\"><img src=\"https://colab.research.google.com/assets/colab-badge.svg\" alt=\"Open In Colab\"/></a>"
      ]
    },
    {
      "cell_type": "markdown",
      "metadata": {
        "collapsed": true,
        "id": "nOGV-2MrRTtn"
      },
      "source": [
        "# **Book Genre Classification using RNNs and LSTM**\n",
        "The contents of this notebook entail the utilization of deep learning techniques for the purpose of classifying book titles. The system will utilize a matrix that has been trained with GloVe, which is a model that is comparable in its ability to generate word vectors. Two separate data structures will be imported: a Python list containing 400,000 words and a 400,000 by 50 dimension embedding. The contents of this notebook will cover word vectors, recurrent neural networks, and long short-term memory units (LSTMs). Once a comprehensive understanding of these terms is obtained, we will examine code examples and explore a complete Tensorflow sentiment classifier.\n",
        "\n",
        "Compared to a feedforward network, an RNN is more precise as it considers the sequence of words. NLP tasks necessitate scalar values or matrices consisting of scalar values. Word embedding refers to the vector representation of a word, which is a matrix that includes all vector values associated with the word. The embedding layer is responsible for transmitting new representations to the LSTM cells. These cells add recurrent connections to the network, enabling them to incorporate word sequence information in the data. The LSTM cells are subsequently fed into an output layer that has a sigmoid shape.\n",
        "\n",
        "![caption](https://github.com/TM-M150/Book-Genre-Classification/blob/master/assets/vectors.png?raw=1)"
      ]
    },
    {
      "cell_type": "markdown",
      "metadata": {
        "id": "fsZebvU9RTtv"
      },
      "source": [
        "The text discusses the creation of vectors for book titles using a pretrained model. Each of the 400,000 word vectors in the matrix will have a dimension of 50. Two data structures will be imported: a Python list containing all 400,000 words and a 400,000-by-50-dimensional embedding matrix. Words will be sent to an embedding layer, which will then send them to LSTM cells, which will then add recurrent connections to the network. The LSTM cells will then proceed to a sigmoid output layer.\n"
      ]
    },
    {
      "cell_type": "markdown",
      "metadata": {
        "id": "gv7uaXNARTtu"
      },
      "source": [
        "# **Loading our dependencies**"
      ]
    },
    {
      "cell_type": "code",
      "execution_count": null,
      "metadata": {
        "collapsed": true,
        "id": "dV6gEQ9hRTtu",
        "colab": {
          "base_uri": "https://localhost:8080/"
        },
        "outputId": "c57fbaf7-635f-4c51-fe61-10a90fd28501"
      },
      "outputs": [
        {
          "output_type": "stream",
          "name": "stderr",
          "text": [
            "WARNING:tensorflow:From /usr/local/lib/python3.10/dist-packages/tensorflow/python/compat/v2_compat.py:107: disable_resource_variables (from tensorflow.python.ops.variable_scope) is deprecated and will be removed in a future version.\n",
            "Instructions for updating:\n",
            "non-resource variables are not supported in the long term\n"
          ]
        }
      ],
      "source": [
        "# Import necessary dependancies\n",
        "import numpy as np\n",
        "import pandas as pd\n",
        "import re\n",
        "import tensorflow.compat.v1 as tf\n",
        "tf.disable_v2_behavior()"
      ]
    },
    {
      "cell_type": "markdown",
      "metadata": {
        "id": "6Te-P0ceXynx"
      },
      "source": [
        "# **Generating `wordsList.npy` and `wordsVectors.npy`**"
      ]
    },
    {
      "cell_type": "code",
      "execution_count": null,
      "metadata": {
        "id": "tGEwNI5ZXkdX",
        "colab": {
          "base_uri": "https://localhost:8080/"
        },
        "outputId": "b2a39239-b248-46be-865d-4a38d75c8fdc"
      },
      "outputs": [
        {
          "output_type": "stream",
          "name": "stdout",
          "text": [
            "Word embeddings saved to wordsList.npy and wordVectors.npy.\n"
          ]
        }
      ],
      "source": [
        "# Import required libraries\n",
        "import urllib.request\n",
        "import zipfile\n",
        "import io\n",
        "import numpy as np\n",
        "\n",
        "\n",
        "# Download the GloVe word embeddings\n",
        "url = \"https://nlp.stanford.edu/data/glove.6B.zip\"\n",
        "with urllib.request.urlopen(url) as u, zipfile.ZipFile(io.BytesIO(u.read())) as zf:\n",
        "    # Extract the embeddings for 400k words with 50 dimensions\n",
        "    data = zf.read(\"glove.6B.50d.txt\").decode()\n",
        "       # Create a dictionary to store word vectors\n",
        "    embeddings = {}\n",
        "     # Loop through each line in the file\n",
        "    for line in data.split(\"\\n\"):\n",
        "        if line:\n",
        "            # Split the line by whitespace\n",
        "            values = line.split()\n",
        "             # The first value is the word\n",
        "            word = values[0]\n",
        "            # The remaining values are the vector values, convert to float32 data type\n",
        "            vector = np.array(values[1:], dtype=\"float32\")\n",
        "             # Add the word and vector to the embeddings dictionary\n",
        "            embeddings[word] = vector\n",
        "\n",
        "    # Create a numpy array of the word vectors\n",
        "    wordsList = list(embeddings.keys())\n",
        "    wordVectors = np.array(list(embeddings.values()))\n",
        "\n",
        "    # Save the word list and word vectors to files\n",
        "    np.save(\"/content/wordsList.npy\", wordsList)\n",
        "    np.save(\"/content/wordVectors.npy\", wordVectors)\n",
        "# Print a message to indicate that the embeddings have been saved\n",
        "print(\"Word embeddings saved to wordsList.npy and wordVectors.npy.\")"
      ]
    },
    {
      "cell_type": "markdown",
      "metadata": {
        "id": "4P3_cox_trOG"
      },
      "source": [
        "# **Loading `wordsList.npy` and `wordsVectors.npy`**"
      ]
    },
    {
      "cell_type": "code",
      "execution_count": null,
      "metadata": {
        "id": "BolV2ULbRTtw",
        "colab": {
          "base_uri": "https://localhost:8080/"
        },
        "outputId": "9475b40d-4ac6-4674-f65f-82de0044a0ed"
      },
      "outputs": [
        {
          "output_type": "stream",
          "name": "stdout",
          "text": [
            "Loaded the word list!\n",
            "Loaded the word vectors!\n"
          ]
        }
      ],
      "source": [
        "import numpy as np\n",
        "# Load the list of words\n",
        "wordsList = np.load('wordsList.npy')\n",
        "\n",
        "# Print confirmation that the list has been loaded\n",
        "print('Loaded the word list!')\n",
        "\n",
        "# Convert the numpy array to a regular list\n",
        "wordsList = wordsList.tolist()\n",
        "\n",
        "# Load the pre-trained word vectors\n",
        "wordVectors = np.load('wordVectors.npy')\n",
        "\n",
        "# Print confirmation that the vectors have been loaded\n",
        "print ('Loaded the word vectors!')"
      ]
    },
    {
      "cell_type": "code",
      "execution_count": null,
      "metadata": {
        "id": "EsigzEg1RTtx",
        "colab": {
          "base_uri": "https://localhost:8080/"
        },
        "outputId": "26aacec4-84dc-494d-8653-7629269b413c"
      },
      "outputs": [
        {
          "output_type": "stream",
          "name": "stdout",
          "text": [
            "['the', ',', '.', 'of', 'to', 'and', 'in', 'a', '\"', \"'s\", 'for', '-', 'that', 'on', 'is', 'was', 'said', 'with', 'he', 'as', 'it', 'by', 'at', '(', ')', 'from', 'his', \"''\", '``', 'an', 'be', 'has', 'are', 'have', 'but', 'were', 'not', 'this', 'who', 'they', 'had', 'i', 'which', 'will', 'their', ':', 'or', 'its', 'one', 'after', 'new', 'been', 'also', 'we', 'would', 'two', 'more', \"'\", 'first', 'about', 'up', 'when', 'year', 'there', 'all', '--', 'out', 'she', 'other', 'people', \"n't\", 'her', 'percent', 'than', 'over', 'into', 'last', 'some', 'government', 'time', '$', 'you', 'years', 'if', 'no', 'world', 'can', 'three', 'do', ';', 'president', 'only', 'state', 'million', 'could', 'us', 'most', '_', 'against', 'u.s.']\n",
            "400000\n"
          ]
        }
      ],
      "source": [
        "# print the first 100 words in wordsList\n",
        "print(wordsList[:100])\n",
        "\n",
        "# print the total number of words in wordsList\n",
        "print(len(wordsList))"
      ]
    },
    {
      "cell_type": "code",
      "execution_count": null,
      "metadata": {
        "id": "OXZFzJGURTty",
        "colab": {
          "base_uri": "https://localhost:8080/"
        },
        "outputId": "aa9e9948-966a-4dd3-822b-099c250fe8e5"
      },
      "outputs": [
        {
          "output_type": "stream",
          "name": "stdout",
          "text": [
            "[ 2.9605e-01 -1.3841e-01  4.3774e-02 -3.8744e-01  1.2262e-01 -6.5180e-01\n",
            " -2.8240e-01  9.0312e-02 -5.5186e-01  3.2060e-01  3.7422e-03  9.3229e-01\n",
            " -2.2034e-01 -2.1922e-01  9.2170e-01  7.5724e-01  8.4892e-01 -4.2197e-03\n",
            "  5.3626e-01 -1.2667e+00 -6.1028e-01  1.6700e-01  8.2753e-01  6.5765e-01\n",
            "  4.8959e-01 -1.9744e+00 -1.1490e+00 -2.1461e-01  8.0539e-01 -1.4745e+00\n",
            "  3.7490e+00  1.0141e+00 -1.1293e+00 -5.2661e-01 -1.2029e-01 -2.7931e-01\n",
            "  6.5092e-02 -4.3639e-02  6.0426e-01 -2.0892e-01 -4.5739e-01  1.0441e-02\n",
            "  4.1458e-01  6.8900e-01  1.4468e-01 -3.1973e-02 -4.8073e-02 -1.1279e-04\n",
            "  1.3854e-01  9.6954e-01]\n",
            "(400000, 50)\n"
          ]
        }
      ],
      "source": [
        "# Print the 88th row of the wordVectors matrix\n",
        "print(wordVectors[88])\n",
        "\n",
        "# Print the shape of the wordVectors matrix\n",
        "print(wordVectors.shape)"
      ]
    },
    {
      "cell_type": "markdown",
      "metadata": {
        "id": "RkOPch66RTty"
      },
      "source": [
        "## **Loading the dataset**"
      ]
    },
    {
      "cell_type": "code",
      "execution_count": null,
      "metadata": {
        "id": "gndoCkmBRTtz",
        "colab": {
          "base_uri": "https://localhost:8080/"
        },
        "outputId": "aa2af356-4975-4f27-e6f4-751e750d3983"
      },
      "outputs": [
        {
          "output_type": "stream",
          "name": "stdout",
          "text": [
            "Mounted at /content/drive\n"
          ]
        }
      ],
      "source": [
        "import pandas as pd\n",
        "# Acces personal Google Drive\n",
        "from google.colab import drive\n",
        "drive.mount('/content/drive')\n",
        "\n",
        "# Reads the data\n",
        "data = pd.read_csv('/content/drive/MyDrive/Data/book32-listing.csv',encoding = \"ISO-8859-1\")"
      ]
    },
    {
      "cell_type": "code",
      "execution_count": null,
      "metadata": {
        "id": "m5TGpUiWRTtz"
      },
      "outputs": [],
      "source": [
        "# Create a list of column names\n",
        "columns = ['Id', 'Image', 'Image_link', 'Title', 'Author', 'Class', 'Genre']\n",
        "\n",
        "# Assign the list of column names to the columns of the data DataFrame\n",
        "data.columns = columns"
      ]
    },
    {
      "cell_type": "code",
      "execution_count": null,
      "metadata": {
        "collapsed": true,
        "id": "GKKbeBB1RTtz"
      },
      "outputs": [],
      "source": [
        "# Create a pandas DataFrame called 'books' with the 'Title' column from the 'data' DataFrame\n",
        "books = pd.DataFrame(data['Title'])\n",
        "\n",
        "# Create a pandas DataFrame called 'author' with the 'Author' column from the 'data' DataFrame\n",
        "author = pd.DataFrame(data['Author'])\n",
        "\n",
        "# Create a pandas DataFrame called 'genre' with the 'Genre' column from the 'data' DataFrame\n",
        "genre = pd.DataFrame(data['Genre'])"
      ]
    },
    {
      "cell_type": "code",
      "execution_count": null,
      "metadata": {
        "id": "HpUl2PRrRTtz",
        "colab": {
          "base_uri": "https://localhost:8080/",
          "height": 206
        },
        "outputId": "d4f4857e-5b20-404a-a50c-85b857e318e4"
      },
      "outputs": [
        {
          "output_type": "execute_result",
          "data": {
            "text/plain": [
              "                                               Title\n",
              "0                    Doug the Pug 2016 Wall Calendar\n",
              "1  Moleskine 2016 Weekly Notebook, 12M, Large, Bl...\n",
              "2            365 Cats Color Page-A-Day Calendar 2016\n",
              "3               Sierra Club Engagement Calendar 2016\n",
              "4               Sierra Club Wilderness Calendar 2016"
            ],
            "text/html": [
              "\n",
              "  <div id=\"df-c5e93401-c495-426e-a85e-7b84cedecf29\">\n",
              "    <div class=\"colab-df-container\">\n",
              "      <div>\n",
              "<style scoped>\n",
              "    .dataframe tbody tr th:only-of-type {\n",
              "        vertical-align: middle;\n",
              "    }\n",
              "\n",
              "    .dataframe tbody tr th {\n",
              "        vertical-align: top;\n",
              "    }\n",
              "\n",
              "    .dataframe thead th {\n",
              "        text-align: right;\n",
              "    }\n",
              "</style>\n",
              "<table border=\"1\" class=\"dataframe\">\n",
              "  <thead>\n",
              "    <tr style=\"text-align: right;\">\n",
              "      <th></th>\n",
              "      <th>Title</th>\n",
              "    </tr>\n",
              "  </thead>\n",
              "  <tbody>\n",
              "    <tr>\n",
              "      <th>0</th>\n",
              "      <td>Doug the Pug 2016 Wall Calendar</td>\n",
              "    </tr>\n",
              "    <tr>\n",
              "      <th>1</th>\n",
              "      <td>Moleskine 2016 Weekly Notebook, 12M, Large, Bl...</td>\n",
              "    </tr>\n",
              "    <tr>\n",
              "      <th>2</th>\n",
              "      <td>365 Cats Color Page-A-Day Calendar 2016</td>\n",
              "    </tr>\n",
              "    <tr>\n",
              "      <th>3</th>\n",
              "      <td>Sierra Club Engagement Calendar 2016</td>\n",
              "    </tr>\n",
              "    <tr>\n",
              "      <th>4</th>\n",
              "      <td>Sierra Club Wilderness Calendar 2016</td>\n",
              "    </tr>\n",
              "  </tbody>\n",
              "</table>\n",
              "</div>\n",
              "      <button class=\"colab-df-convert\" onclick=\"convertToInteractive('df-c5e93401-c495-426e-a85e-7b84cedecf29')\"\n",
              "              title=\"Convert this dataframe to an interactive table.\"\n",
              "              style=\"display:none;\">\n",
              "        \n",
              "  <svg xmlns=\"http://www.w3.org/2000/svg\" height=\"24px\"viewBox=\"0 0 24 24\"\n",
              "       width=\"24px\">\n",
              "    <path d=\"M0 0h24v24H0V0z\" fill=\"none\"/>\n",
              "    <path d=\"M18.56 5.44l.94 2.06.94-2.06 2.06-.94-2.06-.94-.94-2.06-.94 2.06-2.06.94zm-11 1L8.5 8.5l.94-2.06 2.06-.94-2.06-.94L8.5 2.5l-.94 2.06-2.06.94zm10 10l.94 2.06.94-2.06 2.06-.94-2.06-.94-.94-2.06-.94 2.06-2.06.94z\"/><path d=\"M17.41 7.96l-1.37-1.37c-.4-.4-.92-.59-1.43-.59-.52 0-1.04.2-1.43.59L10.3 9.45l-7.72 7.72c-.78.78-.78 2.05 0 2.83L4 21.41c.39.39.9.59 1.41.59.51 0 1.02-.2 1.41-.59l7.78-7.78 2.81-2.81c.8-.78.8-2.07 0-2.86zM5.41 20L4 18.59l7.72-7.72 1.47 1.35L5.41 20z\"/>\n",
              "  </svg>\n",
              "      </button>\n",
              "      \n",
              "  <style>\n",
              "    .colab-df-container {\n",
              "      display:flex;\n",
              "      flex-wrap:wrap;\n",
              "      gap: 12px;\n",
              "    }\n",
              "\n",
              "    .colab-df-convert {\n",
              "      background-color: #E8F0FE;\n",
              "      border: none;\n",
              "      border-radius: 50%;\n",
              "      cursor: pointer;\n",
              "      display: none;\n",
              "      fill: #1967D2;\n",
              "      height: 32px;\n",
              "      padding: 0 0 0 0;\n",
              "      width: 32px;\n",
              "    }\n",
              "\n",
              "    .colab-df-convert:hover {\n",
              "      background-color: #E2EBFA;\n",
              "      box-shadow: 0px 1px 2px rgba(60, 64, 67, 0.3), 0px 1px 3px 1px rgba(60, 64, 67, 0.15);\n",
              "      fill: #174EA6;\n",
              "    }\n",
              "\n",
              "    [theme=dark] .colab-df-convert {\n",
              "      background-color: #3B4455;\n",
              "      fill: #D2E3FC;\n",
              "    }\n",
              "\n",
              "    [theme=dark] .colab-df-convert:hover {\n",
              "      background-color: #434B5C;\n",
              "      box-shadow: 0px 1px 3px 1px rgba(0, 0, 0, 0.15);\n",
              "      filter: drop-shadow(0px 1px 2px rgba(0, 0, 0, 0.3));\n",
              "      fill: #FFFFFF;\n",
              "    }\n",
              "  </style>\n",
              "\n",
              "      <script>\n",
              "        const buttonEl =\n",
              "          document.querySelector('#df-c5e93401-c495-426e-a85e-7b84cedecf29 button.colab-df-convert');\n",
              "        buttonEl.style.display =\n",
              "          google.colab.kernel.accessAllowed ? 'block' : 'none';\n",
              "\n",
              "        async function convertToInteractive(key) {\n",
              "          const element = document.querySelector('#df-c5e93401-c495-426e-a85e-7b84cedecf29');\n",
              "          const dataTable =\n",
              "            await google.colab.kernel.invokeFunction('convertToInteractive',\n",
              "                                                     [key], {});\n",
              "          if (!dataTable) return;\n",
              "\n",
              "          const docLinkHtml = 'Like what you see? Visit the ' +\n",
              "            '<a target=\"_blank\" href=https://colab.research.google.com/notebooks/data_table.ipynb>data table notebook</a>'\n",
              "            + ' to learn more about interactive tables.';\n",
              "          element.innerHTML = '';\n",
              "          dataTable['output_type'] = 'display_data';\n",
              "          await google.colab.output.renderOutput(dataTable, element);\n",
              "          const docLink = document.createElement('div');\n",
              "          docLink.innerHTML = docLinkHtml;\n",
              "          element.appendChild(docLink);\n",
              "        }\n",
              "      </script>\n",
              "    </div>\n",
              "  </div>\n",
              "  "
            ]
          },
          "metadata": {},
          "execution_count": 9
        }
      ],
      "source": [
        "# Print the first few rows of the books DataFrame\n",
        "books.head()"
      ]
    },
    {
      "cell_type": "code",
      "execution_count": null,
      "metadata": {
        "id": "sVJU7EnrRTtz",
        "colab": {
          "base_uri": "https://localhost:8080/",
          "height": 206
        },
        "outputId": "ff5051df-00be-4413-d51e-0ecf9733f121"
      },
      "outputs": [
        {
          "output_type": "execute_result",
          "data": {
            "text/plain": [
              "       Genre\n",
              "0  Calendars\n",
              "1  Calendars\n",
              "2  Calendars\n",
              "3  Calendars\n",
              "4  Calendars"
            ],
            "text/html": [
              "\n",
              "  <div id=\"df-61c6c603-ba32-401b-a37c-a15aa8032b9d\">\n",
              "    <div class=\"colab-df-container\">\n",
              "      <div>\n",
              "<style scoped>\n",
              "    .dataframe tbody tr th:only-of-type {\n",
              "        vertical-align: middle;\n",
              "    }\n",
              "\n",
              "    .dataframe tbody tr th {\n",
              "        vertical-align: top;\n",
              "    }\n",
              "\n",
              "    .dataframe thead th {\n",
              "        text-align: right;\n",
              "    }\n",
              "</style>\n",
              "<table border=\"1\" class=\"dataframe\">\n",
              "  <thead>\n",
              "    <tr style=\"text-align: right;\">\n",
              "      <th></th>\n",
              "      <th>Genre</th>\n",
              "    </tr>\n",
              "  </thead>\n",
              "  <tbody>\n",
              "    <tr>\n",
              "      <th>0</th>\n",
              "      <td>Calendars</td>\n",
              "    </tr>\n",
              "    <tr>\n",
              "      <th>1</th>\n",
              "      <td>Calendars</td>\n",
              "    </tr>\n",
              "    <tr>\n",
              "      <th>2</th>\n",
              "      <td>Calendars</td>\n",
              "    </tr>\n",
              "    <tr>\n",
              "      <th>3</th>\n",
              "      <td>Calendars</td>\n",
              "    </tr>\n",
              "    <tr>\n",
              "      <th>4</th>\n",
              "      <td>Calendars</td>\n",
              "    </tr>\n",
              "  </tbody>\n",
              "</table>\n",
              "</div>\n",
              "      <button class=\"colab-df-convert\" onclick=\"convertToInteractive('df-61c6c603-ba32-401b-a37c-a15aa8032b9d')\"\n",
              "              title=\"Convert this dataframe to an interactive table.\"\n",
              "              style=\"display:none;\">\n",
              "        \n",
              "  <svg xmlns=\"http://www.w3.org/2000/svg\" height=\"24px\"viewBox=\"0 0 24 24\"\n",
              "       width=\"24px\">\n",
              "    <path d=\"M0 0h24v24H0V0z\" fill=\"none\"/>\n",
              "    <path d=\"M18.56 5.44l.94 2.06.94-2.06 2.06-.94-2.06-.94-.94-2.06-.94 2.06-2.06.94zm-11 1L8.5 8.5l.94-2.06 2.06-.94-2.06-.94L8.5 2.5l-.94 2.06-2.06.94zm10 10l.94 2.06.94-2.06 2.06-.94-2.06-.94-.94-2.06-.94 2.06-2.06.94z\"/><path d=\"M17.41 7.96l-1.37-1.37c-.4-.4-.92-.59-1.43-.59-.52 0-1.04.2-1.43.59L10.3 9.45l-7.72 7.72c-.78.78-.78 2.05 0 2.83L4 21.41c.39.39.9.59 1.41.59.51 0 1.02-.2 1.41-.59l7.78-7.78 2.81-2.81c.8-.78.8-2.07 0-2.86zM5.41 20L4 18.59l7.72-7.72 1.47 1.35L5.41 20z\"/>\n",
              "  </svg>\n",
              "      </button>\n",
              "      \n",
              "  <style>\n",
              "    .colab-df-container {\n",
              "      display:flex;\n",
              "      flex-wrap:wrap;\n",
              "      gap: 12px;\n",
              "    }\n",
              "\n",
              "    .colab-df-convert {\n",
              "      background-color: #E8F0FE;\n",
              "      border: none;\n",
              "      border-radius: 50%;\n",
              "      cursor: pointer;\n",
              "      display: none;\n",
              "      fill: #1967D2;\n",
              "      height: 32px;\n",
              "      padding: 0 0 0 0;\n",
              "      width: 32px;\n",
              "    }\n",
              "\n",
              "    .colab-df-convert:hover {\n",
              "      background-color: #E2EBFA;\n",
              "      box-shadow: 0px 1px 2px rgba(60, 64, 67, 0.3), 0px 1px 3px 1px rgba(60, 64, 67, 0.15);\n",
              "      fill: #174EA6;\n",
              "    }\n",
              "\n",
              "    [theme=dark] .colab-df-convert {\n",
              "      background-color: #3B4455;\n",
              "      fill: #D2E3FC;\n",
              "    }\n",
              "\n",
              "    [theme=dark] .colab-df-convert:hover {\n",
              "      background-color: #434B5C;\n",
              "      box-shadow: 0px 1px 3px 1px rgba(0, 0, 0, 0.15);\n",
              "      filter: drop-shadow(0px 1px 2px rgba(0, 0, 0, 0.3));\n",
              "      fill: #FFFFFF;\n",
              "    }\n",
              "  </style>\n",
              "\n",
              "      <script>\n",
              "        const buttonEl =\n",
              "          document.querySelector('#df-61c6c603-ba32-401b-a37c-a15aa8032b9d button.colab-df-convert');\n",
              "        buttonEl.style.display =\n",
              "          google.colab.kernel.accessAllowed ? 'block' : 'none';\n",
              "\n",
              "        async function convertToInteractive(key) {\n",
              "          const element = document.querySelector('#df-61c6c603-ba32-401b-a37c-a15aa8032b9d');\n",
              "          const dataTable =\n",
              "            await google.colab.kernel.invokeFunction('convertToInteractive',\n",
              "                                                     [key], {});\n",
              "          if (!dataTable) return;\n",
              "\n",
              "          const docLinkHtml = 'Like what you see? Visit the ' +\n",
              "            '<a target=\"_blank\" href=https://colab.research.google.com/notebooks/data_table.ipynb>data table notebook</a>'\n",
              "            + ' to learn more about interactive tables.';\n",
              "          element.innerHTML = '';\n",
              "          dataTable['output_type'] = 'display_data';\n",
              "          await google.colab.output.renderOutput(dataTable, element);\n",
              "          const docLink = document.createElement('div');\n",
              "          docLink.innerHTML = docLinkHtml;\n",
              "          element.appendChild(docLink);\n",
              "        }\n",
              "      </script>\n",
              "    </div>\n",
              "  </div>\n",
              "  "
            ]
          },
          "metadata": {},
          "execution_count": 10
        }
      ],
      "source": [
        "# Prints clumn values of the 'genre' dataframe\n",
        "genre.head()"
      ]
    },
    {
      "cell_type": "code",
      "execution_count": null,
      "metadata": {
        "id": "qaW-2tjnRTt0",
        "colab": {
          "base_uri": "https://localhost:8080/"
        },
        "outputId": "c8535c34-7cd7-4dee-ffde-12bbd322204f"
      },
      "outputs": [
        {
          "output_type": "stream",
          "name": "stdout",
          "text": [
            "32\n",
            "['Calendars' 'Comics & Graphic Novels' 'Test Preparation'\n",
            " 'Mystery, Thriller & Suspense' 'Science Fiction & Fantasy' 'Romance'\n",
            " 'Humor & Entertainment' 'Literature & Fiction' 'Gay & Lesbian'\n",
            " 'Engineering & Transportation' 'Cookbooks, Food & Wine'\n",
            " 'Crafts, Hobbies & Home' 'Arts & Photography' 'Education & Teaching'\n",
            " 'Parenting & Relationships' 'Self-Help' 'Computers & Technology'\n",
            " 'Medical Books' 'Science & Math' 'Health, Fitness & Dieting'\n",
            " 'Business & Money' 'Law' 'Biographies & Memoirs' 'History'\n",
            " 'Politics & Social Sciences' 'Reference' 'Christian Books & Bibles'\n",
            " 'Religion & Spirituality' 'Sports & Outdoors' 'Teen & Young Adult'\n",
            " \"Children's Books\" 'Travel']\n"
          ]
        }
      ],
      "source": [
        "# Prints counts the number of unique values in the “Genre” column\n",
        "print (len((genre['Genre'].unique())))\n",
        "\n",
        "# Prints Unique values in the 'Genre' column \n",
        "print ((genre['Genre'].unique()))"
      ]
    },
    {
      "cell_type": "code",
      "execution_count": null,
      "metadata": {
        "id": "A4kNOCzzRTt0",
        "colab": {
          "base_uri": "https://localhost:8080/"
        },
        "outputId": "a21bd85e-7219-4b6d-aa5c-27e10cc0b1d8"
      },
      "outputs": [
        {
          "output_type": "stream",
          "name": "stdout",
          "text": [
            "207571\n",
            "207571\n"
          ]
        }
      ],
      "source": [
        "# Calculate the number of books and store it in the numBooks variable\n",
        "numBooks = len(books)\n",
        "\n",
        "# Calculate the number of genres and store it in the numGenres variable\n",
        "numGenres = len(genre)\n",
        "\n",
        "# Print the number of books\n",
        "print(numBooks)\n",
        "\n",
        "# Print the number of genres\n",
        "print(numGenres)"
      ]
    },
    {
      "cell_type": "code",
      "execution_count": null,
      "metadata": {
        "id": "2-I1LcWhRTt0",
        "colab": {
          "base_uri": "https://localhost:8080/"
        },
        "outputId": "f2538281-9fdc-48ec-cac7-0041747de339"
      },
      "outputs": [
        {
          "output_type": "stream",
          "name": "stdout",
          "text": [
            "19087\n",
            "[ 0.24808   0.032891 -0.062788 -0.45602  -0.15156  -0.6619   -0.5132\n",
            " -0.092383 -0.67547   1.9475    1.1308    0.94337  -0.90491   0.18035\n",
            "  1.1157   -0.32481   0.44242  -0.46054  -1.1966   -0.17732  -1.7263\n",
            "  0.5043   -0.28464  -0.45795   0.33804  -0.13706   1.2031    0.34261\n",
            " -0.58967  -0.70613   0.62696   0.76881  -0.46966  -0.081293  0.39987\n",
            "  0.89332   0.40821   0.73082   0.077319 -0.81061   0.61938   0.95127\n",
            " -0.20063  -0.19441  -0.70711   0.093774  0.99933   0.05538   0.20422\n",
            " -1.3665  ]\n",
            "(50,)\n"
          ]
        }
      ],
      "source": [
        "# Find the index of the word 'messi' in the wordsList\n",
        "aWordIndex = wordsList.index('messi')\n",
        "\n",
        "# Print the index of the word 'messi'\n",
        "print(aWordIndex)\n",
        "\n",
        "# Access the row in the wordVectors matrix that corresponds to the word 'messi'\n",
        "# by using the 'aWordIndex' variable as the index\n",
        "print(wordVectors[aWordIndex])\n",
        "\n",
        "# Print the shape of the row corresponding to the word 'messi'\n",
        "print(wordVectors[aWordIndex].shape)"
      ]
    },
    {
      "cell_type": "markdown",
      "metadata": {
        "id": "PULhWnZVRTt1"
      },
      "source": [
        "Now that we have our vectors, our first step is taking an input sentence and then constructing its vector representation. Let's say that we have the input sentence \"I thought the movie was incredible and inspiring\". In order to get the word vectors, we can use Tensorflow's embedding lookup function.\n",
        "\n",
        "This function takes in two arguments, one for the embedding matrix (the wordVectors matrix in our case), and one for the ids of each of the words. The ids vector can be thought of as the integerized representation of the training set. This is basically just the row index of each of the words."
      ]
    },
    {
      "cell_type": "code",
      "execution_count": null,
      "metadata": {
        "id": "tYbdikSJRTt1",
        "colab": {
          "base_uri": "https://localhost:8080/"
        },
        "outputId": "22a95c93-e206-4ac1-dff7-346183499b7a"
      },
      "outputs": [
        {
          "output_type": "stream",
          "name": "stdout",
          "text": [
            "(10,)\n",
            "[ 41 317  40   7 835 523   0   0   0   0]\n"
          ]
        }
      ],
      "source": [
        "# Maximum length of sentence\n",
        "maxSeqLength = 10 \n",
        "\n",
        "# Dimensions for each word vector\n",
        "numDimensions = 300 \n",
        "firstSentence = np.zeros((maxSeqLength), dtype='int32')\n",
        "firstSentence[0] = wordsList.index(\"i\")\n",
        "firstSentence[1] = wordsList.index(\"too\")\n",
        "firstSentence[2] = wordsList.index(\"had\")\n",
        "firstSentence[3] = wordsList.index(\"a\")\n",
        "firstSentence[4] = wordsList.index(\"love\")\n",
        "firstSentence[5] = wordsList.index(\"story\")\n",
        "#firstSentence[6] = wordsList.index(\"k\")\n",
        "#firstSentence[7] = wordsList.index(\"ki\")\n",
        "print(firstSentence.shape)\n",
        "\n",
        "# Shows the row index for each word\n",
        "print(firstSentence) "
      ]
    },
    {
      "cell_type": "code",
      "execution_count": null,
      "metadata": {
        "id": "YaPYlcZmRTt1",
        "colab": {
          "base_uri": "https://localhost:8080/"
        },
        "outputId": "a6e55731-da75-466d-a150-e13a5f05e193"
      },
      "outputs": [
        {
          "output_type": "stream",
          "name": "stdout",
          "text": [
            "Word vector for a single word [ 1.1891e-01  1.5255e-01 -8.2073e-02 -7.4144e-01  7.5917e-01 -4.8328e-01\n",
            " -3.1009e-01  5.1476e-01 -9.8708e-01  6.1757e-04 -1.5043e-01  8.3770e-01\n",
            " -1.0797e+00 -5.1460e-01  1.3188e+00  6.2007e-01  1.3779e-01  4.7108e-01\n",
            " -7.2874e-02 -7.2675e-01 -7.4116e-01  7.5263e-01  8.8180e-01  2.9561e-01\n",
            "  1.3548e+00 -2.5701e+00 -1.3523e+00  4.5880e-01  1.0068e+00 -1.1856e+00\n",
            "  3.4737e+00  7.7898e-01 -7.2929e-01  2.5102e-01 -2.6156e-01 -3.4684e-01\n",
            "  5.5841e-01  7.5098e-01  4.9830e-01 -2.6823e-01 -2.7443e-03 -1.8298e-02\n",
            " -2.8096e-01  5.5318e-01  3.7706e-02  1.8555e-01 -1.5025e-01 -5.7512e-01\n",
            " -2.6671e-01  9.2121e-01]\n",
            "\n",
            "\n",
            "Dimension for a single word (50,)\n",
            "\n",
            "\n",
            "Shape of the vector for this sentence (10, 50)\n",
            "\n",
            "\n",
            "Vector for this sentence [[ 1.1891e-01  1.5255e-01 -8.2073e-02 -7.4144e-01  7.5917e-01 -4.8328e-01\n",
            "  -3.1009e-01  5.1476e-01 -9.8708e-01  6.1757e-04 -1.5043e-01  8.3770e-01\n",
            "  -1.0797e+00 -5.1460e-01  1.3188e+00  6.2007e-01  1.3779e-01  4.7108e-01\n",
            "  -7.2874e-02 -7.2675e-01 -7.4116e-01  7.5263e-01  8.8180e-01  2.9561e-01\n",
            "   1.3548e+00 -2.5701e+00 -1.3523e+00  4.5880e-01  1.0068e+00 -1.1856e+00\n",
            "   3.4737e+00  7.7898e-01 -7.2929e-01  2.5102e-01 -2.6156e-01 -3.4684e-01\n",
            "   5.5841e-01  7.5098e-01  4.9830e-01 -2.6823e-01 -2.7443e-03 -1.8298e-02\n",
            "  -2.8096e-01  5.5318e-01  3.7706e-02  1.8555e-01 -1.5025e-01 -5.7512e-01\n",
            "  -2.6671e-01  9.2121e-01]\n",
            " [ 2.8667e-01 -3.8020e-01 -4.1817e-02 -8.5846e-01  6.2480e-02  2.5986e-02\n",
            "  -3.2459e-01  1.8082e-01 -6.5606e-01  5.7880e-01 -4.6697e-01  4.7908e-01\n",
            "  -3.9725e-01  2.3640e-01  5.2934e-01  5.4077e-01  5.6033e-01 -9.9687e-02\n",
            "   1.8613e-01 -1.0673e+00 -5.5724e-01  5.0778e-01  5.6096e-01  2.2290e-01\n",
            "   6.4160e-01 -2.1331e+00 -7.0944e-01  8.6730e-01  9.8519e-01 -2.6189e-01\n",
            "   3.4340e+00  4.3325e-01  2.8927e-01 -2.3043e-01  1.4924e-02 -8.1760e-02\n",
            "  -2.5710e-01  6.5917e-01 -1.1367e-01 -5.9716e-01 -4.5952e-01  5.8421e-01\n",
            "   4.0710e-01  8.6048e-01  2.1110e-01 -4.4352e-02 -2.7231e-01 -1.3064e-01\n",
            "   1.8349e-01  5.8699e-01]\n",
            " [ 6.0348e-01 -5.2096e-01  4.0851e-01 -3.7217e-01  3.6978e-01  6.1082e-01\n",
            "  -1.3228e+00  2.4375e-01 -5.9420e-01 -3.5708e-01  3.9942e-01  3.1911e-02\n",
            "  -1.0643e+00 -5.2327e-01  7.1453e-01  6.3384e-02 -4.6383e-01 -3.4641e-01\n",
            "  -7.2445e-01 -1.3714e-01 -1.9179e-01  7.2225e-01  6.2950e-01 -8.0860e-01\n",
            "  -3.7694e-02 -2.0355e+00  1.0566e-01 -3.8591e-02 -2.3201e-01 -2.9627e-01\n",
            "   3.3215e+00  3.2443e-02  8.5368e-02 -4.0771e-01  4.5341e-01 -9.9674e-02\n",
            "   4.4704e-01  5.4220e-01  1.8185e-01  1.7504e-01 -3.3833e-01  3.1697e-01\n",
            "  -2.5268e-02  9.5795e-02 -2.5071e-01 -4.7564e-01 -1.0407e+00 -1.5138e-01\n",
            "  -2.2057e-01 -5.9633e-01]\n",
            " [ 2.1705e-01  4.6515e-01 -4.6757e-01  1.0082e-01  1.0135e+00  7.4845e-01\n",
            "  -5.3104e-01 -2.6256e-01  1.6812e-01  1.3182e-01 -2.4909e-01 -4.4185e-01\n",
            "  -2.1739e-01  5.1004e-01  1.3448e-01 -4.3141e-01 -3.1230e-02  2.0674e-01\n",
            "  -7.8138e-01 -2.0148e-01 -9.7401e-02  1.6088e-01 -6.1836e-01 -1.8504e-01\n",
            "  -1.2461e-01 -2.2526e+00 -2.2321e-01  5.0430e-01  3.2257e-01  1.5313e-01\n",
            "   3.9636e+00 -7.1365e-01 -6.7012e-01  2.8388e-01  2.1738e-01  1.4433e-01\n",
            "   2.5926e-01  2.3434e-01  4.2740e-01 -4.4451e-01  1.3813e-01  3.6973e-01\n",
            "  -6.4289e-01  2.4142e-02 -3.9315e-02 -2.6037e-01  1.2017e-01 -4.3782e-02\n",
            "   4.1013e-01  1.7960e-01]\n",
            " [-1.3886e-01  1.1401e+00 -8.5212e-01 -2.9212e-01  7.5534e-01  8.2762e-01\n",
            "  -3.1810e-01  7.2204e-03 -3.4762e-01  1.0731e+00 -2.4665e-01  9.7765e-01\n",
            "  -5.5835e-01 -9.0318e-02  8.3182e-01 -3.3317e-01  2.2648e-01  3.0913e-01\n",
            "   2.6929e-02 -8.6739e-02 -1.4703e-01  1.3543e+00  5.3695e-01  4.3735e-01\n",
            "   1.2749e+00 -1.4382e+00 -1.2815e+00 -1.5196e-01  1.0506e+00 -9.3644e-01\n",
            "   2.7561e+00  5.8967e-01 -2.9473e-01  2.7574e-01 -3.2928e-01 -2.0100e-01\n",
            "  -2.8547e-01 -4.5987e-01 -1.4603e-01 -6.9372e-01  7.0761e-02 -1.9326e-01\n",
            "  -1.8550e-01 -1.6095e-01  2.4268e-01  2.0784e-01  3.0924e-02 -1.3711e+00\n",
            "  -2.8606e-01  2.8980e-01]\n",
            " [ 4.8251e-01  8.7746e-01 -2.3455e-01  2.6200e-02  7.9691e-01  4.3102e-01\n",
            "  -6.0902e-01 -6.0764e-01 -4.2812e-01 -1.2523e-02 -1.2894e+00  5.2656e-01\n",
            "  -8.2763e-01  3.0689e-01  1.1972e+00 -4.7674e-01 -4.6885e-01 -1.9524e-01\n",
            "  -2.8403e-01  3.5237e-01  4.5536e-01  7.6853e-01  6.2157e-03  5.5421e-01\n",
            "   1.0006e+00 -1.3973e+00 -1.6894e+00  3.0003e-01  6.0678e-01 -4.6044e-01\n",
            "   2.5961e+00 -1.2178e+00  2.8747e-01 -4.6175e-01 -2.5943e-01  3.8209e-01\n",
            "  -2.8312e-01 -4.7642e-01 -5.9444e-02 -5.9202e-01  2.5613e-01  2.1306e-01\n",
            "  -1.6129e-02 -2.9873e-01 -1.9468e-01  5.3611e-01  7.5459e-01 -4.1120e-01\n",
            "   2.3625e-01  2.6451e-01]\n",
            " [ 4.1800e-01  2.4968e-01 -4.1242e-01  1.2170e-01  3.4527e-01 -4.4457e-02\n",
            "  -4.9688e-01 -1.7862e-01 -6.6023e-04 -6.5660e-01  2.7843e-01 -1.4767e-01\n",
            "  -5.5677e-01  1.4658e-01 -9.5095e-03  1.1658e-02  1.0204e-01 -1.2792e-01\n",
            "  -8.4430e-01 -1.2181e-01 -1.6801e-02 -3.3279e-01 -1.5520e-01 -2.3131e-01\n",
            "  -1.9181e-01 -1.8823e+00 -7.6746e-01  9.9051e-02 -4.2125e-01 -1.9526e-01\n",
            "   4.0071e+00 -1.8594e-01 -5.2287e-01 -3.1681e-01  5.9213e-04  7.4449e-03\n",
            "   1.7778e-01 -1.5897e-01  1.2041e-02 -5.4223e-02 -2.9871e-01 -1.5749e-01\n",
            "  -3.4758e-01 -4.5637e-02 -4.4251e-01  1.8785e-01  2.7849e-03 -1.8411e-01\n",
            "  -1.1514e-01 -7.8581e-01]\n",
            " [ 4.1800e-01  2.4968e-01 -4.1242e-01  1.2170e-01  3.4527e-01 -4.4457e-02\n",
            "  -4.9688e-01 -1.7862e-01 -6.6023e-04 -6.5660e-01  2.7843e-01 -1.4767e-01\n",
            "  -5.5677e-01  1.4658e-01 -9.5095e-03  1.1658e-02  1.0204e-01 -1.2792e-01\n",
            "  -8.4430e-01 -1.2181e-01 -1.6801e-02 -3.3279e-01 -1.5520e-01 -2.3131e-01\n",
            "  -1.9181e-01 -1.8823e+00 -7.6746e-01  9.9051e-02 -4.2125e-01 -1.9526e-01\n",
            "   4.0071e+00 -1.8594e-01 -5.2287e-01 -3.1681e-01  5.9213e-04  7.4449e-03\n",
            "   1.7778e-01 -1.5897e-01  1.2041e-02 -5.4223e-02 -2.9871e-01 -1.5749e-01\n",
            "  -3.4758e-01 -4.5637e-02 -4.4251e-01  1.8785e-01  2.7849e-03 -1.8411e-01\n",
            "  -1.1514e-01 -7.8581e-01]\n",
            " [ 4.1800e-01  2.4968e-01 -4.1242e-01  1.2170e-01  3.4527e-01 -4.4457e-02\n",
            "  -4.9688e-01 -1.7862e-01 -6.6023e-04 -6.5660e-01  2.7843e-01 -1.4767e-01\n",
            "  -5.5677e-01  1.4658e-01 -9.5095e-03  1.1658e-02  1.0204e-01 -1.2792e-01\n",
            "  -8.4430e-01 -1.2181e-01 -1.6801e-02 -3.3279e-01 -1.5520e-01 -2.3131e-01\n",
            "  -1.9181e-01 -1.8823e+00 -7.6746e-01  9.9051e-02 -4.2125e-01 -1.9526e-01\n",
            "   4.0071e+00 -1.8594e-01 -5.2287e-01 -3.1681e-01  5.9213e-04  7.4449e-03\n",
            "   1.7778e-01 -1.5897e-01  1.2041e-02 -5.4223e-02 -2.9871e-01 -1.5749e-01\n",
            "  -3.4758e-01 -4.5637e-02 -4.4251e-01  1.8785e-01  2.7849e-03 -1.8411e-01\n",
            "  -1.1514e-01 -7.8581e-01]\n",
            " [ 4.1800e-01  2.4968e-01 -4.1242e-01  1.2170e-01  3.4527e-01 -4.4457e-02\n",
            "  -4.9688e-01 -1.7862e-01 -6.6023e-04 -6.5660e-01  2.7843e-01 -1.4767e-01\n",
            "  -5.5677e-01  1.4658e-01 -9.5095e-03  1.1658e-02  1.0204e-01 -1.2792e-01\n",
            "  -8.4430e-01 -1.2181e-01 -1.6801e-02 -3.3279e-01 -1.5520e-01 -2.3131e-01\n",
            "  -1.9181e-01 -1.8823e+00 -7.6746e-01  9.9051e-02 -4.2125e-01 -1.9526e-01\n",
            "   4.0071e+00 -1.8594e-01 -5.2287e-01 -3.1681e-01  5.9213e-04  7.4449e-03\n",
            "   1.7778e-01 -1.5897e-01  1.2041e-02 -5.4223e-02 -2.9871e-01 -1.5749e-01\n",
            "  -3.4758e-01 -4.5637e-02 -4.4251e-01  1.8785e-01  2.7849e-03 -1.8411e-01\n",
            "  -1.1514e-01 -7.8581e-01]]\n"
          ]
        }
      ],
      "source": [
        "with tf.Session() as sess:\n",
        "    print(\"Word vector for a single word\", tf.nn.embedding_lookup(wordVectors, firstSentence).eval()[0])\n",
        "    print(\"\\n\")\n",
        "    print(\"Dimension for a single word\", tf.nn.embedding_lookup(wordVectors, firstSentence).eval()[0].shape)\n",
        "    print ('\\n')\n",
        "    print(\"Shape of the vector for this sentence\", tf.nn.embedding_lookup(wordVectors, firstSentence).eval().shape)\n",
        "    print (\"\\n\")\n",
        "    print(\"Vector for this sentence\", tf.nn.embedding_lookup(wordVectors, firstSentence).eval())"
      ]
    },
    {
      "cell_type": "markdown",
      "metadata": {
        "id": "65_dMEkcRTt2"
      },
      "source": [
        "# **Data Pipeline**\n",
        "\n",
        "![caption](https://github.com/TM-M150/Book-Genre-Classification/blob/master/assets/pipeline.png?raw=1)"
      ]
    },
    {
      "cell_type": "markdown",
      "metadata": {
        "id": "pHSZIZ-YRTt2"
      },
      "source": [
        "## **Basic dataset Exploration**"
      ]
    },
    {
      "cell_type": "code",
      "execution_count": null,
      "metadata": {
        "id": "zAp2HqdyRTt2"
      },
      "outputs": [],
      "source": [
        "numWords = []\n",
        "for i,j in enumerate(books['Title']):\n",
        "    counter = len(j.split())\n",
        "    numWords.append(counter)       "
      ]
    },
    {
      "cell_type": "code",
      "execution_count": null,
      "metadata": {
        "id": "gdzzcvpyRTt3",
        "colab": {
          "base_uri": "https://localhost:8080/"
        },
        "outputId": "31133ea1-f355-4281-c103-04f123deed93"
      },
      "outputs": [
        {
          "output_type": "stream",
          "name": "stdout",
          "text": [
            "The total number of words in all books is 1900083\n",
            "The average number of words in the each book title is 9.153894330132822\n"
          ]
        }
      ],
      "source": [
        "print('The total number of words in all books is', sum(numWords))\n",
        "print('The average number of words in the each book title is', sum(numWords)/len(numWords))"
      ]
    },
    {
      "cell_type": "code",
      "execution_count": null,
      "metadata": {
        "id": "Zl1DfZjeRTt3",
        "colab": {
          "base_uri": "https://localhost:8080/",
          "height": 455
        },
        "outputId": "b04aea02-9d39-4db4-ba52-261c21b0c9fc"
      },
      "outputs": [
        {
          "output_type": "display_data",
          "data": {
            "text/plain": [
              "<Figure size 640x480 with 1 Axes>"
            ],
            "image/png": "[encoded data removed]"
          },
          "metadata": {}
        }
      ],
      "source": [
        "import matplotlib.pyplot as plt\n",
        "%matplotlib inline\n",
        "plt.hist(numWords, 40)\n",
        "plt.xlabel('Sequence Length')\n",
        "plt.ylabel('Frequency')\n",
        "plt.axis([0, 40, 0, 40000])\n",
        "plt.show()"
      ]
    },
    {
      "cell_type": "markdown",
      "metadata": {
        "id": "dEWmnOYeRTt3"
      },
      "source": [
        "From the histogram as well as the average number of words, book title are 10 words, which is less than max sequence length value we will set. "
      ]
    },
    {
      "cell_type": "code",
      "execution_count": null,
      "metadata": {
        "collapsed": true,
        "id": "Wmq2ldydRTt3"
      },
      "outputs": [],
      "source": [
        "# Removes punctuation, parentheses, question marks, etc., and leaves only alphanumeric characters\n",
        "import re\n",
        "strip_special_chars = re.compile(\"[^A-Za-z0-9 ]+\")\n",
        "\n",
        "def cleanSentences(string):\n",
        "    string = string.lower().replace(\"<br />\", \" \")\n",
        "    return re.sub(strip_special_chars, \"\", string.lower())"
      ]
    },
    {
      "cell_type": "code",
      "execution_count": null,
      "metadata": {
        "id": "y8sGBR6nRTt4",
        "colab": {
          "base_uri": "https://localhost:8080/"
        },
        "outputId": "7f95a76d-5194-4420-db69-c9781716c8ae"
      },
      "outputs": [
        {
          "output_type": "stream",
          "name": "stdout",
          "text": [
            "Doug the Pug 2016 Wall Calendar\n",
            "doug the pug 2016 wall calendar\n",
            "\n",
            "\n",
            "Face Reading in Chinese Medicine, 2e\n",
            "face reading in chinese medicine 2e\n",
            "\n",
            "\n",
            "Bare-Bones Meditation: Waking Up from the Story of My Life\n",
            "barebones meditation waking up from the story of my life\n",
            "\n",
            "\n",
            "The Last Taxi Ride: A Ranjit Singh Novel\n",
            "the last taxi ride a ranjit singh novel\n",
            "\n",
            "\n",
            "CCNA Routing and Switching ICND2 200-101 Official Cert Guide\n",
            "ccna routing and switching icnd2 200101 official cert guide\n",
            "\n",
            "\n",
            "City Secrets Paris: The Essential Insider's Guide\n",
            "city secrets paris the essential insiders guide\n"
          ]
        }
      ],
      "source": [
        "print (books['Title'][0])\n",
        "print (cleanSentences(books['Title'][0]))\n",
        "print ('\\n')\n",
        "print (books['Title'][100000])\n",
        "print (cleanSentences(books['Title'][100000]))\n",
        "print ('\\n')\n",
        "print (books['Title'][33330])\n",
        "print (cleanSentences(books['Title'][33330]))\n",
        "print ('\\n')\n",
        "print (books['Title'][8889])\n",
        "print (cleanSentences(books['Title'][8889]))\n",
        "print ('\\n')\n",
        "print (books['Title'][70000])\n",
        "print (cleanSentences(books['Title'][70000]))\n",
        "print ('\\n')\n",
        "print (books['Title'][200000])\n",
        "print (cleanSentences(books['Title'][200000]))"
      ]
    },
    {
      "cell_type": "markdown",
      "metadata": {
        "id": "iUKQQ_PlRTt4"
      },
      "source": [
        "We will keep our vector sequence length equal to 20."
      ]
    },
    {
      "cell_type": "code",
      "execution_count": null,
      "metadata": {
        "collapsed": true,
        "id": "_Nx5GckBRTt4"
      },
      "outputs": [],
      "source": [
        "maxSeqLength = 20"
      ]
    },
    {
      "cell_type": "code",
      "source": [
        "%%time\n",
        "\n",
        "import os\n",
        "\n",
        "features = np.zeros((numBooks, maxSeqLength), dtype='int32')\n",
        "\n",
        "fileCounter = 0\n",
        "\n",
        "for i, j in enumerate(books['Title']): \n",
        "    indexCounter = 0\n",
        "    cleanedLine = cleanSentences(j)\n",
        "    split = cleanedLine.split()\n",
        "    for word in split:\n",
        "        try:\n",
        "            features[fileCounter][indexCounter] = wordsList.index(word)\n",
        "        except ValueError:\n",
        "            features[fileCounter][indexCounter] = 399999 # Vector for unknown words\n",
        "        indexCounter = indexCounter + 1\n",
        "        if indexCounter >= maxSeqLength:\n",
        "            break\n",
        "    fileCounter = fileCounter + 1 \n",
        "\n",
        "# Create the 'features' directory if it doesn't exist\n",
        "if not os.path.exists('features'):\n",
        "    os.makedirs('features')\n",
        "\n",
        "# Save the features array in the 'features' directory\n",
        "np.save('features/idsMatrix20_1.npy', features)"
      ],
      "metadata": {
        "colab": {
          "base_uri": "https://localhost:8080/"
        },
        "id": "dtlre4YDx3kB",
        "outputId": "ef5e83a4-138d-4b17-b6d2-342d75f1b224"
      },
      "execution_count": null,
      "outputs": [
        {
          "output_type": "stream",
          "name": "stdout",
          "text": [
            "CPU times: user 13min 3s, sys: 2.4 s, total: 13min 5s\n",
            "Wall time: 13min 17s\n"
          ]
        }
      ]
    },
    {
      "cell_type": "markdown",
      "metadata": {
        "collapsed": true,
        "id": "7PFyNG7LRTt4"
      },
      "source": [
        "We have already created idMatrices for sequences 10,20 and 50. You can choose different matrix for experiemtnal purpose"
      ]
    },
    {
      "cell_type": "code",
      "execution_count": null,
      "metadata": {
        "id": "-K9zXCmrRTt5"
      },
      "outputs": [],
      "source": [
        "features = np.load('features/idsMatrix20_1.npy')"
      ]
    },
    {
      "cell_type": "code",
      "execution_count": null,
      "metadata": {
        "colab": {
          "base_uri": "https://localhost:8080/"
        },
        "id": "wvPhtEAiRTt5",
        "outputId": "476c32e7-8468-47ed-f856-ccc8cd0e09bb"
      },
      "outputs": [
        {
          "output_type": "execute_result",
          "data": {
            "text/plain": [
              "(207571, 20)"
            ]
          },
          "metadata": {},
          "execution_count": 27
        }
      ],
      "source": [
        "features.shape"
      ]
    },
    {
      "cell_type": "markdown",
      "metadata": {
        "id": "6L01XeQlRTt5"
      },
      "source": [
        "First Book title from our dataset"
      ]
    },
    {
      "cell_type": "code",
      "execution_count": null,
      "metadata": {
        "id": "WFXKPsjkRTt5",
        "colab": {
          "base_uri": "https://localhost:8080/"
        },
        "outputId": "692574dd-5a2e-4e70-8032-2fdd901bc6ad"
      },
      "outputs": [
        {
          "output_type": "stream",
          "name": "stdout",
          "text": [
            "[ 6406     0 65579 15463  1015  5657     0     0     0     0     0     0\n",
            "     0     0     0     0     0     0     0     0]\n"
          ]
        }
      ],
      "source": [
        "firstSentence = np.zeros((maxSeqLength), dtype='int32')\n",
        "firstSentence[0] = wordsList.index(\"doug\")\n",
        "firstSentence[1] = wordsList.index(\"the\")\n",
        "firstSentence[2] = wordsList.index(\"pug\")\n",
        "firstSentence[3] = wordsList.index(\"2016\")\n",
        "firstSentence[4] = wordsList.index(\"wall\")\n",
        "firstSentence[5] = wordsList.index(\"calendar\")\n",
        "print(firstSentence) #Shows the row index for each word"
      ]
    },
    {
      "cell_type": "code",
      "execution_count": null,
      "metadata": {
        "colab": {
          "base_uri": "https://localhost:8080/"
        },
        "id": "jSV3HXaJRTt5",
        "outputId": "2c839eed-0907-4ca3-fee2-cb43a7469a2e"
      },
      "outputs": [
        {
          "output_type": "stream",
          "name": "stdout",
          "text": [
            "Doug the Pug 2016 Wall Calendar\n"
          ]
        },
        {
          "output_type": "execute_result",
          "data": {
            "text/plain": [
              "array([ 6406,     0, 65579, 15463,  1015,  5657,     0,     0,     0,\n",
              "           0,     0,     0,     0,     0,     0,     0,     0,     0,\n",
              "           0,     0], dtype=int32)"
            ]
          },
          "metadata": {},
          "execution_count": 29
        }
      ],
      "source": [
        "print (books['Title'][0])\n",
        "features[0]"
      ]
    },
    {
      "cell_type": "markdown",
      "metadata": {
        "id": "xXyuoi2sRTt6"
      },
      "source": [
        "Converting genres(labels) using LabelEncoder and keras' to_categorical function"
      ]
    },
    {
      "cell_type": "code",
      "execution_count": null,
      "metadata": {
        "collapsed": true,
        "id": "VVl9Cc-GRTt6"
      },
      "outputs": [],
      "source": [
        "from sklearn.preprocessing import LabelEncoder\n",
        "\n",
        "feat = ['Genre']\n",
        "for x in feat:\n",
        "    le = LabelEncoder()\n",
        "    le.fit(list(genre[x].values))\n",
        "    genre[x] = le.transform(list(genre[x]))"
      ]
    },
    {
      "cell_type": "code",
      "source": [
        "from keras.utils.np_utils import to_categorical\n",
        "target = to_categorical(genre['Genre'], 32)"
      ],
      "metadata": {
        "id": "O6wWMXNQ8EWz"
      },
      "execution_count": null,
      "outputs": []
    },
    {
      "cell_type": "code",
      "execution_count": null,
      "metadata": {
        "colab": {
          "base_uri": "https://localhost:8080/"
        },
        "id": "VJ-7QPGwRTt6",
        "outputId": "f8cb868d-be32-4604-f7c2-0c41ab5f54e5"
      },
      "outputs": [
        {
          "output_type": "execute_result",
          "data": {
            "text/plain": [
              "(207571, 32)"
            ]
          },
          "metadata": {},
          "execution_count": 32
        }
      ],
      "source": [
        "target.shape"
      ]
    },
    {
      "cell_type": "markdown",
      "metadata": {
        "id": "FxAuln0TRTt6"
      },
      "source": [
        "## Splitting into training and test set"
      ]
    },
    {
      "cell_type": "code",
      "execution_count": null,
      "metadata": {
        "id": "K3Lz7qNiRTt7"
      },
      "outputs": [],
      "source": [
        "from sklearn.model_selection import train_test_split\n",
        "\n",
        "\n",
        "X_train, X_test, y_train, y_test = train_test_split(features, target, test_size=0.10)"
      ]
    },
    {
      "cell_type": "code",
      "execution_count": null,
      "metadata": {
        "colab": {
          "base_uri": "https://localhost:8080/"
        },
        "id": "zfTF19GPRTt7",
        "outputId": "d5f66df8-6e5e-4939-d6b4-9854a0293134"
      },
      "outputs": [
        {
          "output_type": "stream",
          "name": "stdout",
          "text": [
            "(186813, 20)\n",
            "(186813, 32)\n",
            "(20758, 20)\n",
            "(20758, 32)\n"
          ]
        }
      ],
      "source": [
        "print (X_train.shape)\n",
        "print (y_train.shape)\n",
        "print (X_test.shape)\n",
        "print (y_test.shape)"
      ]
    },
    {
      "cell_type": "markdown",
      "metadata": {
        "id": "szvwe13GRTt7"
      },
      "source": [
        "## **Defining out hyperparameters**\n",
        "\n",
        "Choosing the right values for your hyperparameters is a crucial part of training deep neural networks effectively. You'll find that your training loss curves can vary with your choice of optimizer (Adam, Adadelta, SGD, etc), learning rate, and network architecture. With RNNs and LSTMs in particular, some other important factors include the number of LSTM units and the size of the word vectors.\n",
        "\n",
        "* Learning Rate: RNNs are infamous for being diffult to train because of the large number of time steps they have. Learning rate becomes extremely important since we don't want our weight values to fluctuate wildly as a result of a large learning rate, nor do we want a slow training process due to a low learning rate. The default value of 0.001 is a good place to start. You should increase this value if the training loss is changing very slowly, and decrease if the loss is unstable.  \n",
        "* Optimizer: There isn't a consensus choice among researchers, but Adam has been widely popular due to having the adaptive learning rate property (Keep in mind that optimal learning rates can differ with the choice of optimizer).\n",
        "* Number of LSTM units: This value is largely dependent on the average length of your input texts. While a greater number of units provides more expressibility for the model and allows the model to store more information for longer texts, the network will take longer to train and will be computationally expensive. \n",
        "* Word Vector Size: Dimensions for word vectors generally range from 50 to 300. A larger size means that the vector is able to encapsulate more information about the word, but you should also expect a more computationally expensive model. "
      ]
    },
    {
      "cell_type": "code",
      "execution_count": null,
      "metadata": {
        "collapsed": true,
        "id": "IdAZKItWRTt7"
      },
      "outputs": [],
      "source": [
        "batchSize = 64\n",
        "lstmUnits = 2\n",
        "numClasses = 32\n",
        "iterations = 10\n",
        "numDimensions = 20"
      ]
    },
    {
      "cell_type": "markdown",
      "metadata": {
        "id": "n4MPeFfZRTt8"
      },
      "source": [
        "# **Helper Function to get batches**"
      ]
    },
    {
      "cell_type": "code",
      "execution_count": null,
      "metadata": {
        "collapsed": true,
        "id": "emdbms4HRTt8"
      },
      "outputs": [],
      "source": [
        "def get_batches(x, y, batch_size=100):\n",
        "    \n",
        "    n_batches = len(x)//batch_size\n",
        "    x, y = x[:n_batches*batch_size], y[:n_batches*batch_size]\n",
        "    for ii in range(0, len(x), batch_size):\n",
        "        yield x[ii:ii+batch_size], y[ii:ii+batch_size]"
      ]
    },
    {
      "cell_type": "markdown",
      "source": [
        "## **Model**\n",
        "\n",
        "Defining Placeholders for input and labels"
      ],
      "metadata": {
        "id": "eCiBBDAnZ2-N"
      }
    },
    {
      "cell_type": "markdown",
      "metadata": {
        "id": "2hbdy4BLRTt8"
      },
      "source": [
        "\n",
        "\n",
        "\n",
        "\n",
        "\n",
        "The tf.nn.rnn_cell.BasicLSTMCell  function takes in an integer for the number of LSTM units that we want. This is one of the hyperparameters that will take some tuning to figure out the optimal value. We’ll then wrap that LSTM cell in a dropout layer to help prevent the network from overfitting."
      ]
    },
    {
      "cell_type": "code",
      "source": [
        "tf.reset_default_graph()\n",
        "\n",
        "labels = tf.placeholder(tf.float32, [batchSize, numClasses])\n",
        "input_data = tf.placeholder(tf.int32, [batchSize, maxSeqLength])"
      ],
      "metadata": {
        "id": "fD1fianw_Gby"
      },
      "execution_count": null,
      "outputs": []
    },
    {
      "cell_type": "markdown",
      "source": [
        "## **Embedding**\n",
        "Now we'll add an embedding layer. We need to do this because there are 1900083 words in our vocabulary. It is massively inefficient to one-hot encode our classes here. Instead of one-hot encoding, we can have an embedding layer and use that layer as a lookup table."
      ],
      "metadata": {
        "id": "-2A6RlrVahsk"
      }
    },
    {
      "cell_type": "code",
      "source": [
        "data = tf.Variable(tf.zeros([batchSize, maxSeqLength, numDimensions]),dtype=tf.float32)\n",
        "data = tf.nn.embedding_lookup(wordVectors, input_data)"
      ],
      "metadata": {
        "id": "seTbu70d_GOx"
      },
      "execution_count": null,
      "outputs": []
    },
    {
      "cell_type": "markdown",
      "source": [
        "Next, we'll create our LSTM cells to use in the recurrent network (TensorFlow documentation). Here we are just defining what the cells look like. This isn't actually building the graph, just defining the type of cells we want in our graph.\n",
        "\n",
        "The tf.nn.rnn_cell.BasicLSTMCell function takes in an integer for the number of LSTM units that we want. This is one of the hyperparameters that will take some tuning to figure out the optimal value. We’ll then wrap that LSTM cell in a dropout layer to help prevent the network from overfitting.\n",
        "\n"
      ],
      "metadata": {
        "id": "R60bfMwFamrm"
      }
    },
    {
      "cell_type": "code",
      "source": [
        "import tensorflow as tf\n",
        "\n",
        "lstmCell = tf.compat.v1.nn.rnn_cell.BasicLSTMCell(lstmUnits)\n",
        "lstmCell = tf.compat.v1.nn.rnn_cell.DropoutWrapper(cell=lstmCell, output_keep_prob=0.50)\n",
        "value, _ = tf.compat.v1.nn.dynamic_rnn(lstmCell, data, dtype=tf.float32)"
      ],
      "metadata": {
        "id": "jAzVHi6G_F8z",
        "colab": {
          "base_uri": "https://localhost:8080/"
        },
        "outputId": "922b89b7-024a-4097-a215-23437f7537fd"
      },
      "execution_count": null,
      "outputs": [
        {
          "output_type": "stream",
          "name": "stderr",
          "text": [
            "<ipython-input-40-ccc6b6913b17>:3: UserWarning: `tf.nn.rnn_cell.BasicLSTMCell` is deprecated and will be removed in a future version. This class is equivalent as `tf.keras.layers.LSTMCell`, and will be replaced by that in Tensorflow 2.0.\n",
            "  lstmCell = tf.compat.v1.nn.rnn_cell.BasicLSTMCell(lstmUnits)\n",
            "WARNING:tensorflow:From <ipython-input-40-ccc6b6913b17>:5: dynamic_rnn (from tensorflow.python.ops.rnn) is deprecated and will be removed in a future version.\n",
            "Instructions for updating:\n",
            "Please use `keras.layers.RNN(cell)`, which is equivalent to this API\n",
            "WARNING:tensorflow:From /usr/local/lib/python3.10/dist-packages/keras/layers/rnn/legacy_cells.py:792: calling Zeros.__init__ (from tensorflow.python.ops.init_ops) with dtype is deprecated and will be removed in a future version.\n",
            "Instructions for updating:\n",
            "Call initializer instance with the dtype argument instead of passing it to the constructor\n"
          ]
        }
      ]
    },
    {
      "cell_type": "markdown",
      "source": [
        "The first output of the dynamic RNN function can be thought of as the last hidden state vector. This vector will be reshaped and then multiplied by a final weight matrix and a bias term to obtain the final output values."
      ],
      "metadata": {
        "id": "O86Yb8MCa15G"
      }
    },
    {
      "cell_type": "code",
      "source": [
        "import tensorflow.compat.v1 as tf\n",
        "weight = tf.Variable(tf.truncated_normal([lstmUnits, numClasses]))\n",
        "bias = tf.Variable(tf.constant(0.1, shape=[numClasses]))\n",
        "value = tf.transpose(value, [1, 0, 2])\n",
        "last = tf.gather(value, int(value.get_shape()[0]) - 1)\n",
        "prediction = (tf.matmul(last, weight) + bias)"
      ],
      "metadata": {
        "id": "Xb_I0gis_Fwp"
      },
      "execution_count": null,
      "outputs": []
    },
    {
      "cell_type": "markdown",
      "source": [
        "Next, we’ll define correct prediction and accuracy metrics to track how the network is doing. The correct prediction formulation works by looking at the index of the maximum value of the 2 output values, and then seeing whether it matches with the training labels."
      ],
      "metadata": {
        "id": "TkdVCDxCbBFm"
      }
    },
    {
      "cell_type": "code",
      "source": [
        "correctPred = tf.equal(tf.argmax(prediction,1), tf.argmax(labels,1))\n",
        "accuracy = tf.reduce_mean(tf.cast(correctPred, tf.float32))"
      ],
      "metadata": {
        "id": "vhlpPGF945lG"
      },
      "execution_count": null,
      "outputs": []
    },
    {
      "cell_type": "markdown",
      "source": [
        "Calculating loss and defining optimizer"
      ],
      "metadata": {
        "id": "gcyVqbg2bOsU"
      }
    },
    {
      "cell_type": "code",
      "source": [
        "loss = tf.reduce_mean(tf.nn.softmax_cross_entropy_with_logits(logits=prediction, labels=labels))\n",
        "optimizer = tf.train.AdamOptimizer(0.001).minimize(loss)"
      ],
      "metadata": {
        "id": "I6vkKg8u49zS",
        "outputId": "0e141af5-579f-43aa-be03-72b4465a1c64",
        "colab": {
          "base_uri": "https://localhost:8080/"
        }
      },
      "execution_count": null,
      "outputs": [
        {
          "output_type": "stream",
          "name": "stderr",
          "text": [
            "WARNING:tensorflow:From /usr/local/lib/python3.10/dist-packages/tensorflow/python/util/dispatch.py:1176: softmax_cross_entropy_with_logits (from tensorflow.python.ops.nn_ops) is deprecated and will be removed in a future version.\n",
            "Instructions for updating:\n",
            "\n",
            "Future major versions of TensorFlow will allow gradients to flow\n",
            "into the labels input on backprop by default.\n",
            "\n",
            "See `tf.nn.softmax_cross_entropy_with_logits_v2`.\n",
            "\n"
          ]
        }
      ]
    },
    {
      "cell_type": "markdown",
      "metadata": {
        "id": "rt_AzEzXRTuA"
      },
      "source": [
        "### Training "
      ]
    },
    {
      "cell_type": "code",
      "source": [
        "%%time\n",
        "sess = tf.InteractiveSession()\n",
        "saver = tf.train.Saver()\n",
        "sess.run(tf.global_variables_initializer())\n",
        "\n",
        "for i in range(iterations):\n",
        "    #Next Batch of reviews\n",
        "    for ii, (x, y) in enumerate(get_batches(X_train, y_train, batch_size = batchSize)):\n",
        "        sess.run(optimizer, {input_data: x, labels: y})\n",
        "        #acc,loss = sess.run([accuracy,loss], {input_data: x, labels: y})\n",
        "    print(\"Loss for {} epoch: {}\".format(i, (sess.run(loss, {input_data: x, labels: y}))))    \n",
        "    print(\"Accuracy for {} epoch: {}\".format(i, (sess.run(accuracy, {input_data: x, labels: y})) * 100))\n",
        "    \n",
        "save_path = saver.save(sess, \"models/test.ckpt\", global_step=i)  "
      ],
      "metadata": {
        "id": "DECeTf4N5ZqX",
        "outputId": "7569c613-b970-4fb5-db39-0185384ea72c",
        "colab": {
          "base_uri": "https://localhost:8080/"
        }
      },
      "execution_count": null,
      "outputs": [
        {
          "output_type": "stream",
          "name": "stdout",
          "text": [
            "Loss for 0 epoch: 3.248265027999878\n",
            "Accuracy for 0 epoch: 12.5\n",
            "Loss for 1 epoch: 3.0414371490478516\n",
            "Accuracy for 1 epoch: 7.8125\n",
            "Loss for 2 epoch: 2.9603521823883057\n",
            "Accuracy for 2 epoch: 20.3125\n",
            "Loss for 3 epoch: 3.0331954956054688\n",
            "Accuracy for 3 epoch: 17.1875\n",
            "Loss for 4 epoch: 2.9430646896362305\n",
            "Accuracy for 4 epoch: 14.0625\n",
            "Loss for 5 epoch: 3.109239101409912\n",
            "Accuracy for 5 epoch: 12.5\n",
            "Loss for 6 epoch: 2.9724206924438477\n",
            "Accuracy for 6 epoch: 17.1875\n",
            "Loss for 7 epoch: 2.9824743270874023\n",
            "Accuracy for 7 epoch: 15.625\n",
            "Loss for 8 epoch: 2.9535484313964844\n",
            "Accuracy for 8 epoch: 18.75\n",
            "Loss for 9 epoch: 2.9334988594055176\n",
            "Accuracy for 9 epoch: 17.1875\n",
            "CPU times: user 4min 27s, sys: 8.28 s, total: 4min 36s\n",
            "Wall time: 3min 11s\n"
          ]
        }
      ]
    },
    {
      "cell_type": "code",
      "source": [
        "sess = tf.InteractiveSession()\n",
        "saver = tf.train.Saver()\n",
        "saver.restore(sess, tf.train.latest_checkpoint('models'))"
      ],
      "metadata": {
        "id": "eRkyxVokBWSi",
        "colab": {
          "base_uri": "https://localhost:8080/"
        },
        "outputId": "50bd8ad4-0ab1-4904-beeb-99f9e9355d4b"
      },
      "execution_count": null,
      "outputs": [
        {
          "output_type": "stream",
          "name": "stderr",
          "text": [
            "/usr/local/lib/python3.10/dist-packages/tensorflow/python/client/session.py:1769: UserWarning: An interactive session is already active. This can cause out-of-memory errors in some cases. You must explicitly call `InteractiveSession.close()` to release resources held by the other session(s).\n",
            "  warnings.warn('An interactive session is already active. This can '\n"
          ]
        }
      ]
    },
    {
      "cell_type": "code",
      "execution_count": null,
      "metadata": {
        "id": "7qsYwWGyRTuA"
      },
      "outputs": [],
      "source": [
        "sess = tf.compat.v1.InteractiveSession()\n",
        "saver = tf.compat.v1.train.Saver()\n",
        "saver.restore(sess, tf.compat.v1.train.latest_checkpoint('/content/models'))"
      ]
    },
    {
      "cell_type": "markdown",
      "metadata": {
        "id": "bgA8FmTsRTuA"
      },
      "source": [
        "### Testing"
      ]
    },
    {
      "cell_type": "code",
      "source": [
        "for i in range(iterations):\n",
        "    for ii, (x, y) in enumerate(get_batches(X_test, y_test, batch_size = batchSize)):\n",
        "        if (ii % 30000 ==0):\n",
        "            print (\"Accuracy for {} epoch: {}\".format(i, (sess.run(accuracy, {input_data: x, labels: y})) * 100))"
      ],
      "metadata": {
        "id": "PG-aksgy6qyO",
        "outputId": "1143ffd1-87d5-4823-ed99-359bdccbaaed",
        "colab": {
          "base_uri": "https://localhost:8080/"
        }
      },
      "execution_count": null,
      "outputs": [
        {
          "output_type": "stream",
          "name": "stdout",
          "text": [
            "Accuracy for 0 epoch: 20.3125\n",
            "Accuracy for 1 epoch: 17.1875\n",
            "Accuracy for 2 epoch: 20.3125\n",
            "Accuracy for 3 epoch: 17.1875\n",
            "Accuracy for 4 epoch: 23.4375\n",
            "Accuracy for 5 epoch: 23.4375\n",
            "Accuracy for 6 epoch: 12.5\n",
            "Accuracy for 7 epoch: 10.9375\n",
            "Accuracy for 8 epoch: 18.75\n",
            "Accuracy for 9 epoch: 17.1875\n"
          ]
        }
      ]
    }
  ],
  "metadata": {
    "colab": {
      "provenance": [],
      "include_colab_link": true
    },
    "kernelspec": {
      "display_name": "Python 3 (ipykernel)",
      "language": "python",
      "name": "python3"
    },
    "language_info": {
      "codemirror_mode": {
        "name": "ipython",
        "version": 3
      },
      "file_extension": ".py",
      "mimetype": "text/x-python",
      "name": "python",
      "nbconvert_exporter": "python",
      "pygments_lexer": "ipython3",
      "version": "3.10.9"
    }
  },
  "nbformat": 4,
  "nbformat_minor": 0
}